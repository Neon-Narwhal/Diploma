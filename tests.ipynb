{
 "cells": [
  {
   "cell_type": "code",
   "execution_count": 1,
   "id": "2143e864",
   "metadata": {},
   "outputs": [],
   "source": [
    "import pandas as pd\n",
    "from utils.data_utils import load_data_json"
   ]
  },
  {
   "cell_type": "code",
   "execution_count": 6,
   "id": "f93e99a7",
   "metadata": {},
   "outputs": [],
   "source": [
    "file_path = './data/python_data.jsonl'"
   ]
  },
  {
   "cell_type": "code",
   "execution_count": 10,
   "id": "8a1d08cd",
   "metadata": {},
   "outputs": [],
   "source": [
    "datas = load_data_json(file_path=file_path)"
   ]
  },
  {
   "cell_type": "code",
   "execution_count": 11,
   "id": "77eead07",
   "metadata": {},
   "outputs": [
    {
     "data": {
      "text/plain": [
       "dict_keys(['src', 'complexity', 'problem', 'from', 'tags'])"
      ]
     },
     "execution_count": 11,
     "metadata": {},
     "output_type": "execute_result"
    }
   ],
   "source": [
    "data[0].keys()"
   ]
  },
  {
   "cell_type": "code",
   "execution_count": 13,
   "id": "df5ecabc",
   "metadata": {},
   "outputs": [
    {
     "data": {
      "text/plain": [
       "{'src': \"from math import sqrt\\n\\na, v = map(int, input().split())\\nl, d, w = map(int, input().split())\\n\\ndef findt(u, v, a, dist):\\n\\tfront = (v*v-u*u)/(2*a)\\n\\tif front > dist:\\n\\t\\treturn (sqrt(u*u+2*a*dist)-u)/a\\n\\treturn (v-u)/a + (dist-front)/v\\n\\ndef solve(a, v, l, d, w):\\n\\tif v <= w or 2*a*d <= w*w:\\n\\t\\treturn findt(0, v, a, l)\\n\\tafter = findt(w, v, a, l-d)\\n\\tpeak = sqrt(a*d + w*w/2)\\n\\tif peak > v:\\n\\t\\ttravel = (v*v-w*w/2)/a\\n\\t\\tbefore = (2*v-w)/a + (d-travel)/v\\n\\telse:\\n\\t\\tbefore = (2*peak-w)/a\\n\\treturn before + after\\n\\nprint(f'{solve(a, v, l, d, w):.8f}')\",\n",
       " 'complexity': 'constant',\n",
       " 'problem': '0005_D',\n",
       " 'from': 'CODEFORCES',\n",
       " 'tags': 'implementation,math'}"
      ]
     },
     "execution_count": 13,
     "metadata": {},
     "output_type": "execute_result"
    }
   ],
   "source": [
    "datas[0]#['tags']"
   ]
  },
  {
   "cell_type": "code",
   "execution_count": null,
   "id": "611dc861",
   "metadata": {},
   "outputs": [],
   "source": []
  }
 ],
 "metadata": {
  "kernelspec": {
   "display_name": "diploma",
   "language": "python",
   "name": "python3"
  },
  "language_info": {
   "codemirror_mode": {
    "name": "ipython",
    "version": 3
   },
   "file_extension": ".py",
   "mimetype": "text/x-python",
   "name": "python",
   "nbconvert_exporter": "python",
   "pygments_lexer": "ipython3",
   "version": "3.11.13"
  }
 },
 "nbformat": 4,
 "nbformat_minor": 5
}
